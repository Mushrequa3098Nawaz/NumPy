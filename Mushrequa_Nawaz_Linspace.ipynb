{
  "nbformat": 4,
  "nbformat_minor": 0,
  "metadata": {
    "colab": {
      "name": "Mushrequa Nawaz - Linspace.ipynb",
      "provenance": [],
      "collapsed_sections": []
    },
    "kernelspec": {
      "name": "python3",
      "display_name": "Python 3"
    }
  },
  "cells": [
    {
      "cell_type": "code",
      "metadata": {
        "id": "5yXy9DDU0Xg2",
        "colab_type": "code",
        "colab": {}
      },
      "source": [
        "import math\n",
        "def r_linspace(lower, upper, number):\n",
        "\ta=[]\n",
        "\tnumber=math.floor(number)\n",
        "\tif number==1:\n",
        "\t\ta.append(round(lower,8))\n",
        "\t\treturn a\n",
        "\tnumber-=1\n",
        "\tstep=(upper-lower)/number\n",
        "\twhile round(lower,8)<=upper:\n",
        "\t\ta.append(round(lower,8))\n",
        "\t\tlower+=step\n",
        "\treturn a"
      ],
      "execution_count": 0,
      "outputs": []
    },
    {
      "cell_type": "code",
      "metadata": {
        "id": "Ki2veMleqQxl",
        "colab_type": "code",
        "colab": {}
      },
      "source": [
        "r_linspace(10,20,6)\n"
      ],
      "execution_count": 0,
      "outputs": []
    }
  ]
}